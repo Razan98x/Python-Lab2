{
 "cells": [
  {
   "cell_type": "code",
   "execution_count": 12,
   "id": "9ac6395d",
   "metadata": {},
   "outputs": [
    {
     "name": "stdout",
     "output_type": "stream",
     "text": [
      "I recommended it, It is good\n"
     ]
    }
   ],
   "source": [
    "movie = 'friends'\n",
    "rate = 3\n",
    "pop_sc = 72.65\n",
    "if rate >= 4 and pop_sc > 80:\n",
    "   print(\"Highly recommended\")\n",
    "elif rate >= 3 and pop_sc > 70:\n",
    "    print(\"I recommended it, It is good\")\n",
    "elif rate >= 2 and pop_sc > 60:\n",
    "    print(\"You should check it out!\")\n",
    "else : \n",
    "    print( \"Don't watch it, It is a waste of time\")"
   ]
  },
  {
   "cell_type": "code",
   "execution_count": 14,
   "id": "d8215dde",
   "metadata": {},
   "outputs": [
    {
     "name": "stdout",
     "output_type": "stream",
     "text": [
      "I recommended it, It is good\n"
     ]
    }
   ],
   "source": [
    "movie = 'friends'\n",
    "rate = 3\n",
    "pop_sc = 72.65\n",
    "if rate >= 4 and pop_sc > 80:\n",
    "   print(\"Highly recommended\")\n",
    "elif rate >= 3 and pop_sc > 70:\n",
    "    print(\"I recommended it, It is good\")\n",
    "elif rate >= 2 and pop_sc > 60:\n",
    "    print(\"You should check it out!\")\n",
    "elif rate >= 1 and pop_sc > 50:\n",
    "    print( \"Don't watch it, It is a waste of time\")"
   ]
  }
 ],
 "metadata": {
  "kernelspec": {
   "display_name": "Python 3 (ipykernel)",
   "language": "python",
   "name": "python3"
  },
  "language_info": {
   "codemirror_mode": {
    "name": "ipython",
    "version": 3
   },
   "file_extension": ".py",
   "mimetype": "text/x-python",
   "name": "python",
   "nbconvert_exporter": "python",
   "pygments_lexer": "ipython3",
   "version": "3.9.13"
  }
 },
 "nbformat": 4,
 "nbformat_minor": 5
}
